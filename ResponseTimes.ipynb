{
 "cells": [
  {
   "cell_type": "code",
   "execution_count": null,
   "metadata": {
    "collapsed": false
   },
   "outputs": [],
   "source": [
    "%matplotlib inline\n",
    "\n",
    "import json\n",
    "import datetime\n",
    "import os\n",
    "import re\n",
    "import urllib\n",
    "\n",
    "import numpy as np\n",
    "import matplotlib.pyplot as plt\n",
    "\n",
    "import backend\n",
    "import frontend\n",
    "\n",
    "for module in (frontend, backend):\n",
    "    module = reload(module)"
   ]
  },
  {
   "cell_type": "code",
   "execution_count": null,
   "metadata": {
    "collapsed": false
   },
   "outputs": [],
   "source": [
    "backend_times, _ = backend.get_times('20161002', '140000-203000')\n",
    "frontend_times = frontend.get_times('20161002', '140000-203000')"
   ]
  },
  {
   "cell_type": "code",
   "execution_count": null,
   "metadata": {
    "collapsed": false
   },
   "outputs": [],
   "source": [
    "backend_times_ok = [t for t in backend_times if t[3]['metadata']['status'][0] == '200']\n",
    "backend_times_bad = [t for t in backend_times if t[3]['metadata']['status'][0] != '200']\n",
    "\n",
    "text = '{} reqs'.format(len(frontend_times))\n",
    "text += '\\n{} slow reqs'.format(len(backend_times_ok))\n",
    "text += '\\n{} bad reqs'.format(len(backend_times_bad))\n",
    "text += '\\n{:1.2f} med resp time'.format(backend_times_ok[len(backend_times_ok) / 2][1])\n",
    "text += '\\n{:1.2f} max resp time'.format(max([t[1] for t in backend_times_ok]))"
   ]
  },
  {
   "cell_type": "code",
   "execution_count": null,
   "metadata": {
    "collapsed": false
   },
   "outputs": [],
   "source": [
    "ok_pct = 100 * float(len(backend_times_ok)) / len(frontend_times)\n",
    "bad_pct = 100 * float(len(backend_times_bad)) / len(frontend_times)\n",
    "labels = 'T < 0.5s', 'T >= 0.5s (%1.2f%%)' % ok_pct, 'Erro (%1.2f%%)' % bad_pct\n",
    "pie_slices = [len(frontend_times) - len(backend_times), len(backend_times_ok), len(backend_times_bad)]\n",
    "colors = ['yellowgreen', 'yellow', 'coral']\n",
    "\n",
    "fig, ax = plt.subplots(1, 1, figsize=(16, 9))\n",
    "patches, texts1, texts2 = plt.pie(pie_slices, colors=colors, autopct='', shadow=True, startangle=90)\n",
    "plt.title(u'\\nBackend – Requests 16:00 ~ 20:30\\n')\n",
    "plt.legend(patches, labels)\n",
    "axis = plt.axis('equal')\n",
    "\n",
    "props = dict(boxstyle='round', facecolor='wheat', alpha=0.5)\n",
    "title = ax.text(-1.5, 0.95, text, fontsize=14, verticalalignment='top', bbox=props)"
   ]
  },
  {
   "cell_type": "code",
   "execution_count": null,
   "metadata": {
    "collapsed": false,
    "scrolled": true
   },
   "outputs": [],
   "source": [
    "days = ['20160926', '20160927', '20160928', '20160929', '20160930', '20161001', '20161002']\n",
    "history_backend = []\n",
    "history_frontend = []\n",
    "for day in days:\n",
    "    times = frontend.get_times(day)\n",
    "    history_frontend.append((day, times))\n",
    "    times, canceled = backend.get_times(day)\n",
    "    history_backend.append((day, times, canceled))"
   ]
  },
  {
   "cell_type": "code",
   "execution_count": null,
   "metadata": {
    "collapsed": false,
    "scrolled": true
   },
   "outputs": [],
   "source": [
    "medians = []\n",
    "errors = []\n",
    "maxes = []\n",
    "times_label = []\n",
    "for i, (day, times, canceled) in enumerate(history_backend):\n",
    "    total_reqs = len(history_frontend[i][1])\n",
    "    slow_reqs = [t[1] for t in times if t[3]['metadata']['status'][0] == '200']\n",
    "    bad_reqs = [t[1] for t in times if t[3]['metadata']['status'][0] != '200']\n",
    "    len_slow_reqs = len(slow_reqs)\n",
    "    len_bad_reqs = len(bad_reqs)\n",
    "    median_ = np.median(slow_reqs)\n",
    "    max_ = max(slow_reqs)\n",
    "    medians.append(median_)\n",
    "    errors.append(len_bad_reqs)\n",
    "    maxes.append(max_)\n",
    "    times_label.append((\n",
    "        total_reqs,\n",
    "        len_slow_reqs,\n",
    "        len_bad_reqs,\n",
    "        100 * float(len_slow_reqs) / total_reqs,\n",
    "        100 * float(len_bad_reqs) / total_reqs)\n",
    "    )"
   ]
  },
  {
   "cell_type": "code",
   "execution_count": null,
   "metadata": {
    "collapsed": false
   },
   "outputs": [],
   "source": [
    "fig, ax = plt.subplots(1, 1, figsize=(20, 10))\n",
    "index = np.arange(len(history_backend))\n",
    "bar_width = 0.3\n",
    "\n",
    "rects1 = plt.bar(index, medians, bar_width,\n",
    "                 alpha=0.33,\n",
    "                 color='b',\n",
    "                 label='mdiana')\n",
    "\n",
    "rects2 = plt.bar(index+bar_width, maxes, bar_width,\n",
    "                 alpha=0.33,\n",
    "                 color='r',\n",
    "                 label='max')\n",
    "\n",
    "ax.set_xticklabels([\n",
    "    '{0}{1}\\n{0}{2} [{3} / {4}]\\n{0}{5:1.2f}% / {6:1.2f}%'.format(' '*38, t[0], *times_label[i])\n",
    "    for i, t in enumerate(history_backend)\n",
    "])\n",
    "\n",
    "ax.legend((rects1[0], rects2[0]), ('median', 'max'))\n",
    "text = plt.title(u'\\nBackend – Requests 16:00 ~ 20:30 t >= 0.5s\\n')"
   ]
  },
  {
   "cell_type": "code",
   "execution_count": null,
   "metadata": {
    "collapsed": false
   },
   "outputs": [],
   "source": [
    "date_time_str = backend_times[0][3]['date'] + backend_times[0][3]['time'][:-1]\n",
    "good_times = []\n",
    "bad_times = []\n",
    "good_reqs = []\n",
    "bad_reqs = []\n",
    "good_times_medians = []\n",
    "bad_times_medians = []\n",
    "for feed, time, when, item, date_time in backend_times:\n",
    "    if item['metadata']['status'][0] == '200':\n",
    "        good_times.append(time)\n",
    "    else:\n",
    "        bad_times.append(time)\n",
    "    if date_time_str != item['date'] + item['time'][:-1]:\n",
    "        good_reqs.append((date_time, len(good_times)))\n",
    "        bad_reqs.append((date_time, len(bad_times)))\n",
    "        good_times_medians.append((date_time, np.median(good_times)))\n",
    "        bad_times_medians.append((date_time, np.median(bad_times)))\n",
    "        good_times = []\n",
    "        bad_times = []\n",
    "        date_time_str = item['date'] + item['time'][:-1]\n",
    "else:\n",
    "    if good_times or bad_times:\n",
    "        good_reqs.append((date_time, len(good_times)))\n",
    "        bad_reqs.append((date_time, len(bad_times)))\n",
    "        good_times_medians.append((date_time, np.median(good_times)))\n",
    "        bad_times_medians.append((date_time, np.median(bad_times)))\n",
    "\n",
    "date_time_str = frontend_times[0][3]['date'] + frontend_times[0][3]['time'][:-2]\n",
    "total_reqs = []\n",
    "reqs = 0\n",
    "for feed, time, when, item, date_time in frontend_times:\n",
    "    reqs += 1\n",
    "    if date_time_str != item['date'] + item['time'][:-2]:\n",
    "        total_reqs.append((date_time, reqs))\n",
    "        date_time_str = item['date'] + item['time'][:-2]\n",
    "        reqs = 0\n",
    "else:\n",
    "    if reqs:\n",
    "        total_reqs.append((date_time, reqs))"
   ]
  },
  {
   "cell_type": "code",
   "execution_count": null,
   "metadata": {
    "collapsed": false
   },
   "outputs": [],
   "source": [
    "fig, (ax1, ax2, ax3) = plt.subplots(3, 1, figsize=(25, 15))\n",
    "ax1.plot([m[0] for m in good_times_medians], [m[1] for m in good_times_medians], 'g')\n",
    "ax1.plot([m[0] for m in bad_times_medians], [m[1] for m in bad_times_medians], 'r')\n",
    "ax2.plot([r[0] for r in good_reqs], [r[1] for r in good_reqs], 'g')\n",
    "ax2.plot([r[0] for r in bad_reqs], [r[1] for r in bad_reqs], 'r')\n",
    "ax3.plot([t[0] for t in total_reqs], [t[1] for t in total_reqs])\n",
    "ax1.set_ylabel('response time')\n",
    "ax2.set_ylabel('num of requests')\n",
    "_ = ax3.set_ylabel('num of requests')"
   ]
  }
 ],
 "metadata": {
  "kernelspec": {
   "display_name": "Python 2",
   "language": "python",
   "name": "python2"
  },
  "language_info": {
   "codemirror_mode": {
    "name": "ipython",
    "version": 2
   },
   "file_extension": ".py",
   "mimetype": "text/x-python",
   "name": "python",
   "nbconvert_exporter": "python",
   "pygments_lexer": "ipython2",
   "version": "2.7.10"
  }
 },
 "nbformat": 4,
 "nbformat_minor": 0
}
